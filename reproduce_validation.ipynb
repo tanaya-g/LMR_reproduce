{
 "cells": [
  {
   "cell_type": "markdown",
   "metadata": {},
   "source": [
    "# LMRv2.x validation"
   ]
  },
  {
   "cell_type": "code",
   "execution_count": null,
   "metadata": {},
   "outputs": [],
   "source": [
    "%load_ext autoreload\n",
    "%autoreload 2\n",
    "\n",
    "import cfr\n",
    "import numpy as np\n",
    "print(cfr.__version__)\n",
    "import pens\n",
    "import xarray as xr\n",
    "import pandas as pd\n",
    "import matplotlib.pyplot as plt"
   ]
  },
  {
   "cell_type": "markdown",
   "metadata": {},
   "source": [
    "## Load Recon Job\n",
    "\n",
    "Plot tas climate field reconstruction (mean over ensembles) and time series "
   ]
  },
  {
   "cell_type": "code",
   "execution_count": null,
   "metadata": {},
   "outputs": [],
   "source": [
    "res = cfr.ReconRes('./recons/lmr_reproduce_pda_v3/')\n",
    "res.load(['tas', 'tas_gm'])"
   ]
  },
  {
   "cell_type": "markdown",
   "metadata": {},
   "source": [
    "## Validate GMST \n",
    "\n",
    "Firstly against LMR offline"
   ]
  },
  {
   "cell_type": "markdown",
   "metadata": {},
   "source": [
    "### Load LMR offline (original LMRv2.1)\n",
    "We can do this using Pangeo-Forge. We then need to take the average over lat/lon in order to get the global mean surface temperature. We can then turn this into an Ensemble Time Series for more convenient plotting and comparison. "
   ]
  },
  {
   "cell_type": "code",
   "execution_count": null,
   "metadata": {},
   "outputs": [],
   "source": [
    "lmr_off = xr.open_dataset('./prev_data/gmt_MCruns_ensemble_full_LMRv2.1.nc')\n",
    "lmr_off\n"
   ]
  },
  {
   "cell_type": "code",
   "execution_count": null,
   "metadata": {},
   "outputs": [],
   "source": [
    "ens_values = lmr_off.gmt.stack(ensemble=['MCrun', 'members']).values  # Shape: (time, MCrun*members)\n",
    "time_values = lmr_off.time.values\n",
    "years = np.array([t.year for t in time_values])"
   ]
  },
  {
   "cell_type": "code",
   "execution_count": null,
   "metadata": {},
   "outputs": [],
   "source": [
    "lmr_ens = cfr.EnsTS(time=years, value=ens_values, value_name='Temperature Anomaly (°C)')\n",
    "lmr_ens.plot_qs()"
   ]
  },
  {
   "cell_type": "markdown",
   "metadata": {},
   "source": [
    "### Load GMST from our Recon Job "
   ]
  },
  {
   "cell_type": "code",
   "execution_count": null,
   "metadata": {},
   "outputs": [],
   "source": [
    "res_ts = res.recons['tas_gm']"
   ]
  },
  {
   "cell_type": "markdown",
   "metadata": {},
   "source": [
    "### Plot both versions of LMR to see comparison\n"
   ]
  },
  {
   "cell_type": "code",
   "execution_count": null,
   "metadata": {},
   "outputs": [],
   "source": [
    "fig, (ax1, ax2) = plt.subplots(2, 1, figsize=(12, 8))\n",
    "\n",
    "res_ts.plot_qs(ax=ax2, ylim=[-0.8, 0.6])\n",
    "ax2.set_title('LMR Reproduced CFR Global Mean Temperature')\n",
    "\n",
    "lmr_ens.plot_qs(ax=ax1, ylim=[-0.8, 0.6]) \n",
    "ax1.set_title('LMRv2.1 Global Mean Temperature')\n",
    "\n",
    "plt.tight_layout()\n",
    "plt.show()"
   ]
  },
  {
   "cell_type": "markdown",
   "metadata": {},
   "source": [
    "### Comparison using PENS"
   ]
  },
  {
   "cell_type": "code",
   "execution_count": null,
   "metadata": {},
   "outputs": [],
   "source": [
    "import pens\n",
    "import seaborn as sns\n",
    "\n",
    "plt.style.use('default')\n",
    "pens.set_style()"
   ]
  },
  {
   "cell_type": "code",
   "execution_count": null,
   "metadata": {},
   "outputs": [],
   "source": [
    "# Convert cfr EnsTS to pens EnsTS\n",
    "glob_pens = pens.EnsembleTS(time=lmr_ens.time, value=lmr_ens.value)\n",
    "glob_pens.label = 'Original LMR'\n",
    "glob_pens.time_unit = 'years'\n",
    "glob_pens.value_name = 'GMST'\n",
    "glob_pens.value_unit = '\\N{DEGREE SIGN}C'\n",
    "\n",
    "res_pens = pens.EnsembleTS(time=res_ts.time, value=res_ts.value)\n",
    "res_pens.label = 'Reproduced LMR'\n",
    "res_pens.time_unit = 'years'\n",
    "res_pens.value_name = 'GMST'\n",
    "res_pens.value_unit = '\\N{DEGREE SIGN}C'"
   ]
  },
  {
   "cell_type": "code",
   "execution_count": null,
   "metadata": {},
   "outputs": [],
   "source": [
    "# Align time dimension for both EnsTS\n",
    "\n",
    "glob_time = lmr_ens.time\n",
    "res_time = res_ts.time.values\n",
    "\n",
    "common_start = max(glob_time.min(), res_time.min())\n",
    "common_end = min(glob_time.max(), res_time.max())\n",
    "\n",
    "# Create time range array\n",
    "timespan = np.array([common_start, common_end])\n",
    "\n",
    "# Slice to common period\n",
    "glob_pens_aligned = glob_pens.slice(timespan)\n",
    "res_pens_aligned = res_pens.slice(timespan)"
   ]
  },
  {
   "cell_type": "code",
   "execution_count": null,
   "metadata": {},
   "outputs": [],
   "source": [
    "orig_intra = glob_pens_aligned.distance()\n",
    "repro_intra = res_pens_aligned.distance()\n",
    "\n",
    "# Calculate inter-ensemble distance \n",
    "inter_dist = glob_pens_aligned.distance(res_pens_aligned.value)\n",
    "    \n",
    "# Calculate plume distance \n",
    "plume_dist = glob_pens_aligned.plume_distance(res_pens_aligned.value, max_dist=1.0)\n"
   ]
  },
  {
   "cell_type": "code",
   "execution_count": null,
   "metadata": {},
   "outputs": [],
   "source": [
    "print(\"\\nDistances between ensembles:\")\n",
    "print(f\"Original intra-ensemble distance : {orig_intra},\\ len={len(orig_intra)}\", )\n",
    "print(f\"Reproduced intra-ensemble distance: {repro_intra},\\ len={len(repro_intra)}\")\n",
    "print(f\"Inter-ensemble distance: {inter_dist}\")\n",
    "print(f\"Plume distance: {plume_dist}\")"
   ]
  },
  {
   "cell_type": "code",
   "execution_count": null,
   "metadata": {},
   "outputs": [],
   "source": [
    "# Create figure and plot\n",
    "fig, ax = plt.subplots(figsize=(10, 6))\n",
    "\n",
    "# Plot KDE for individual ensembles with explicit labels\n",
    "sns.kdeplot(data=orig_intra, fill=False, ax=ax, common_norm=False, label='Original LMRv2.1')\n",
    "sns.kdeplot(data=repro_intra, fill=False, ax=ax, common_norm=False, label='Reproduced LMRv2.1')\n",
    "\n",
    "# Add inter-ensemble distribution\n",
    "sns.kdeplot(data=inter_dist, fill=True, ax=ax, common_norm=False, color='silver', \n",
    "            label='inter-ensemble')\n",
    "\n",
    "# Add plume distance line\n",
    "ax.axvline(x=plume_dist, color=\"black\", linestyle=\"--\", label='plume distance')\n",
    "\n",
    "# Add labels\n",
    "ax.set_xlabel('Distance')\n",
    "ax.set_ylabel('Density')\n",
    "ax.set_title('Distance Distributions')\n",
    "ax.legend()\n",
    "\n",
    "plt.tight_layout()\n",
    "plt.show()"
   ]
  },
  {
   "cell_type": "markdown",
   "metadata": {},
   "source": [
    "### Load HadCRUT4\n",
    "\n",
    "load dataset using xarray, then convert to a cfr Ensemble Time Series object"
   ]
  },
  {
   "cell_type": "code",
   "execution_count": null,
   "metadata": {},
   "outputs": [],
   "source": [
    "had = xr.load_dataset('./analyses/HadCRUT/HadCRUT.4.4.0.0.median.nc')\n",
    "had.head()"
   ]
  },
  {
   "cell_type": "code",
   "execution_count": null,
   "metadata": {},
   "outputs": [],
   "source": [
    "gm = had.temperature_anomaly.mean(dim=['latitude', 'longitude'])\n",
    "had_annual = gm.groupby('time.year').mean()\n",
    "\n",
    "# Make sure values are properly shaped ([,:1])\n",
    "had_values = had_annual.values\n",
    "if had_values.ndim == 1:\n",
    "    had_values = had_values[:, np.newaxis] \n",
    "\n",
    "# annualize HadCRUT4\n",
    "had_ts_annual = cfr.EnsTS(\n",
    "    time=had_annual.year.values,\n",
    "    value=had_values,\n",
    "    value_name='Temperature Anomaly'\n",
    ")\n",
    "\n",
    "# Compare LMR with annual data\n",
    "had_ts_compared = res_ts.compare(\n",
    "    had_ts_annual, \n",
    "    ref_name='HadCRUT4', \n",
    "    timespan=(1880, 2000)\n",
    ")\n",
    "\n",
    "fig, ax = had_ts_compared.plot_qs(figsize=[12, 4], xlim=[1850,2000])"
   ]
  },
  {
   "cell_type": "markdown",
   "metadata": {},
   "source": [
    "### Load GISTEMP"
   ]
  },
  {
   "cell_type": "code",
   "execution_count": null,
   "metadata": {},
   "outputs": [],
   "source": [
    "gis = xr.load_dataset('./analyses/GISTEMP/gistemp1200_ERSSTv4.nc')\n",
    "gis.head()"
   ]
  },
  {
   "cell_type": "code",
   "execution_count": null,
   "metadata": {},
   "outputs": [],
   "source": [
    "gm = gis.tempanomaly.mean(dim=['lat', 'lon'])\n",
    "gis_annual = gm.groupby('time.year').mean()\n",
    "\n",
    "# Make sure values are properly shaped ([,:1])\n",
    "gis_values = gis_annual.values\n",
    "if gis_values.ndim == 1:\n",
    "    gis_values = gis_values[:, np.newaxis] \n",
    "\n",
    "# annualize GISTEMP\n",
    "gis_ts_annual = cfr.EnsTS(\n",
    "    time=gis_annual.year.values,\n",
    "    value=gis_values,\n",
    "    value_name='Temperature Anomaly'\n",
    ")\n",
    "\n",
    "# Compare LMR with annual data\n",
    "gis_ts_compared = res_ts.compare(\n",
    "    gis_ts_annual, \n",
    "    ref_name='GISTEMPv4', \n",
    "    timespan=(1880, 2000)\n",
    ")\n",
    "\n",
    "fig, ax = gis_ts_compared.plot_qs(figsize=[12, 4], xlim=[1880,2000])"
   ]
  },
  {
   "cell_type": "markdown",
   "metadata": {},
   "source": [
    "### Load Berkeley Earth Surface Temperature"
   ]
  },
  {
   "cell_type": "code",
   "execution_count": null,
   "metadata": {},
   "outputs": [],
   "source": [
    "best = xr.load_dataset('./analyses/BerkeleyEarth/Land_and_Ocean_LatLong1.nc')\n",
    "best"
   ]
  },
  {
   "cell_type": "code",
   "execution_count": null,
   "metadata": {},
   "outputs": [],
   "source": [
    "\n",
    "gm = best.temperature.mean(dim=['latitude', 'longitude'])\n",
    "\n",
    "# Convert time coordinate to datetime index (specific to BEST)\n",
    "time_index = pd.date_range(start='1850-01-01', periods=len(best.time), freq='M')\n",
    "gm = gm.assign_coords(time=time_index)\n",
    "\n",
    "best_annual = gm.groupby('time.year').mean()\n",
    "\n",
    "# Reshape values if needed\n",
    "best_values = best_annual.values\n",
    "if best_values.ndim == 1:\n",
    "    best_values = best_values[:, np.newaxis]\n",
    "\n",
    "# annualize\n",
    "best_ts_annual = cfr.EnsTS(\n",
    "    time=best_annual.year.values,\n",
    "    value=best_values,\n",
    "    value_name='Temperature Anomaly'\n",
    ")\n",
    "\n",
    "# Compare LMR with annual data\n",
    "best_ts_compared = res_ts.compare(\n",
    "    best_ts_annual,\n",
    "    ref_name='BEST',\n",
    "    timespan=(1880, 2000)\n",
    ")\n",
    "\n",
    "fig, ax = best_ts_compared.plot_qs(figsize=[12, 4], xlim=[1850, 2000])"
   ]
  },
  {
   "cell_type": "markdown",
   "metadata": {},
   "source": [
    "### Plot all together "
   ]
  },
  {
   "cell_type": "code",
   "execution_count": null,
   "metadata": {},
   "outputs": [],
   "source": [
    "# combine all datasets to calculate mean\n",
    "all_refs = np.array([\n",
    "   had_ts_compared.ref_value[:121],\n",
    "   gis_ts_compared.ref_value[:121],\n",
    "   best_ts_compared.ref_value[:121]\n",
    "])\n",
    "mean_ref = np.mean(all_refs, axis=0)\n",
    "\n",
    "mean_ts_annual = cfr.EnsTS(\n",
    "    time=best_annual.year.values[30:-14], #manually slice dates\n",
    "    value=mean_ref,\n",
    "    value_name='Temperature Anomaly'\n",
    ")\n",
    "\n",
    "mean_ts_compared = res_ts.compare(\n",
    "    mean_ts_annual,\n",
    "    ref_name='Consensus',\n",
    "    timespan=(1880, 2000)\n",
    ")\n",
    "\n",
    "fig, ax = mean_ts_compared.plot_qs(figsize=[12, 4], xlim=[1850, 2000])"
   ]
  },
  {
   "cell_type": "code",
   "execution_count": null,
   "metadata": {},
   "outputs": [],
   "source": [
    "# Create base plot without validation plot\n",
    "fig, ax = had_ts_compared.plot_qs(\n",
    "   figsize=[16, 8], \n",
    "   xlim=(1880, 2000),\n",
    "   color='indianred',\n",
    "   plot_valid=False \n",
    ")\n",
    "\n",
    "for compared, color, label in [\n",
    "   (had_ts_compared, 'black', 'HadCRUT5'),\n",
    "   (gis_ts_compared, 'blue', 'GISTEMP'),\n",
    "   (best_ts_compared, 'green', 'Berkeley Earth'),\n",
    "   (mean_ts_compared, 'purple', 'Consensus')\n",
    "   \n",
    "]:\n",
    "   stats = compared.valid_stats\n",
    "   label = f'{label} (r={stats[\"corr\"]:.2f}, CE={stats[\"CE\"]:.2f})'\n",
    "   ax.plot(compared.ref_time, compared.ref_value[:121], color=color, label=label)\n",
    "\n",
    "\n",
    "plt.legend()\n",
    "plt.title('LMRv2.x vs Observational Data 1880-2000')"
   ]
  },
  {
   "cell_type": "markdown",
   "metadata": {},
   "source": [
    "## Validate tas climate field"
   ]
  },
  {
   "cell_type": "markdown",
   "metadata": {},
   "source": [
    "### Load field reconstruction "
   ]
  },
  {
   "cell_type": "code",
   "execution_count": null,
   "metadata": {},
   "outputs": [],
   "source": [
    "lala = xr.open_dataset('./recons/air_MCruns_ensemble_mean_LMRv2.1.nc')\n",
    "lala"
   ]
  },
  {
   "cell_type": "code",
   "execution_count": null,
   "metadata": {},
   "outputs": [],
   "source": [
    "import cfr\n",
    "import xarray as xr\n",
    "import numpy as np\n",
    "import matplotlib.pyplot as plt\n",
    "\n",
    "# Load the data as a ClimateField object\n",
    "lmr_tas = cfr.ClimateField().load_nc(\n",
    "    path='./recons/air_MCruns_ensemble_mean_LMRv2.1.nc',\n",
    "    vn='air', \n",
    "    time_name='time',  \n",
    "    lat_name='lat', \n",
    "    lon_name='lon'\n",
    ")\n",
    "\n",
    "# Take the mean across the MCrun dimension\n",
    "if 'MCrun' in lmr_tas.da.dims:\n",
    "    lmr_tas.da = lmr_tas.da.mean(dim='MCrun')\n",
    "\n",
    "# Calculate the time mean across the entire dataset\n",
    "lmr_tas_mean = lmr_tas.da.mean(dim='time')\n",
    "\n",
    "# Create a new ClimateField with this time-mean data\n",
    "mean_field = cfr.ClimateField()\n",
    "mean_field.da = lmr_tas_mean\n",
    "# Add a name to the DataArray to avoid issues\n",
    "mean_field.da.name = 'air'\n",
    "\n",
    "# Explicitly provide a title to avoid the t_value error\n",
    "fig, ax = mean_field.plot(title=\"LMR 2m Air Temperature - Full Period Mean\")\n",
    "\n",
    "# Manually adjust the colormap and limits if needed\n",
    "imgs = ax.get_images()\n",
    "if len(imgs) > 0:\n",
    "    im = imgs[0]\n",
    "    im.set_cmap('RdBu_r')\n",
    "    im.set_clim(-1, 1)  # adjust based on your data range\n",
    "    plt.colorbar(im, ax=ax, label='Temperature Anomaly (°C)')\n",
    "\n",
    "plt.tight_layout()\n",
    "plt.show()\n",
    "\n"
   ]
  },
  {
   "cell_type": "markdown",
   "metadata": {},
   "source": [
    "### Loading reproduced"
   ]
  },
  {
   "cell_type": "code",
   "execution_count": null,
   "metadata": {},
   "outputs": [],
   "source": [
    "xr.open_dataset('./recons/lmr_reproduce_pda/job_r01_recon.nc')"
   ]
  },
  {
   "cell_type": "code",
   "execution_count": null,
   "metadata": {},
   "outputs": [],
   "source": [
    "res_tas = res.recons['tas']\n",
    "res_tas.plot()"
   ]
  },
  {
   "cell_type": "markdown",
   "metadata": {},
   "source": [
    "### Load GISTEMP temperature field \n",
    "\n",
    "The Tardif et al. paper uses BEST for field validation, but it did not work with cfr for some reason. GISTEMP had the highest correlation for time series validation, and hence I decided to try it for the field validation as well. "
   ]
  },
  {
   "cell_type": "code",
   "execution_count": null,
   "metadata": {},
   "outputs": [],
   "source": [
    "target = cfr.ClimateField().load_nc(\n",
    "    path='./analyses/GISTEMP/gistemp1200_ERSSTv5.nc',\n",
    "    vn='tempanomaly', \n",
    "    time_name='time',  \n",
    "    lat_name='lat', \n",
    "    lon_name='lon',\n",
    "    use_cftime=True).get_anom((1951,1980))"
   ]
  },
  {
   "cell_type": "code",
   "execution_count": null,
   "metadata": {},
   "outputs": [],
   "source": [
    "target = target.annualize(months=[12, 1, 2])\n",
    "target.da"
   ]
  },
  {
   "cell_type": "markdown",
   "metadata": {},
   "source": [
    "#### Correlation"
   ]
  },
  {
   "cell_type": "code",
   "execution_count": null,
   "metadata": {},
   "outputs": [],
   "source": [
    "valid_fd = res.recons['tas'].compare(\n",
    "    target, stat='corr',\n",
    "    timespan=(1880, 2000),\n",
    ")"
   ]
  },
  {
   "cell_type": "code",
   "execution_count": null,
   "metadata": {},
   "outputs": [],
   "source": [
    "valid_fd.plot_kwargs.update({'cbar_orientation': 'horizontal', 'cbar_pad': 0.1})\n",
    "\n",
    "fig, ax = valid_fd.plot(\n",
    "    title=f'corr(recon, obs), mean={valid_fd.geo_mean().value[0,0]:.2f}',\n",
    "    projection='PlateCarree',\n",
    "    latlon_range=(-90, 90, 0, 360),\n",
    "    plot_cbar=True, plot_proxydb=False,\n",
    ")\n",
    "\n",
    "cfr.showfig(fig)"
   ]
  },
  {
   "cell_type": "markdown",
   "metadata": {},
   "source": [
    "#### CE (coefficient of efficiency)"
   ]
  },
  {
   "cell_type": "code",
   "execution_count": null,
   "metadata": {},
   "outputs": [],
   "source": [
    "valid_fdx = res.recons['tas'].compare(\n",
    "    target, stat='CE',\n",
    "    timespan=(1880, 2000),\n",
    ")"
   ]
  },
  {
   "cell_type": "code",
   "execution_count": null,
   "metadata": {},
   "outputs": [],
   "source": [
    "valid_fdx.plot_kwargs.update({'cbar_orientation': 'horizontal', 'cbar_pad': 0.1})\n",
    "\n",
    "fig, ax = valid_fdx.plot(\n",
    "    title=f'CE(recon, obs), mean={valid_fdx.geo_mean().value[0,0]:.2f}',\n",
    "    projection='PlateCarree',\n",
    "    latlon_range=(-90, 90, 0, 360),\n",
    "    plot_cbar=True, plot_proxydb=False,\n",
    ")\n",
    "\n",
    "cfr.showfig(fig)"
   ]
  },
  {
   "cell_type": "markdown",
   "metadata": {},
   "source": [
    "## Trying BEST again\n",
    "Same process as above, but wrapping the longitude and alterating time array to be in datetime format."
   ]
  },
  {
   "cell_type": "code",
   "execution_count": null,
   "metadata": {},
   "outputs": [],
   "source": [
    "ds = xr.open_dataset('./analyses/BerkeleyEarth/Land_and_Ocean_LatLong1.nc')\n",
    "\n",
    "# 2. Convert decimal years to datetime\n",
    "years = ds.time.values\n",
    "dates = pd.to_datetime([f\"{int(year)}-{int((year % 1) * 12 + 1):02d}-15\" for year in years])\n",
    "\n",
    "# 3. Create a new DataArray with proper coordinates\n",
    "da = xr.DataArray(\n",
    "    ds.temperature.values,\n",
    "    coords={\n",
    "        'time': dates,\n",
    "        'lat': ds.latitude.values,\n",
    "        'lon': ds.longitude.values\n",
    "    },\n",
    "    dims=['time', 'lat', 'lon'],\n",
    "    name='temperature'\n",
    ")\n",
    "\n",
    "# 4. Now create ClimateField object\n",
    "target_be = cfr.ClimateField(da).get_anom(ref_period=[1951, 1980])\n",
    "target_be = target.annualize(months=[12, 1, 2])\n",
    "target_be.da"
   ]
  },
  {
   "cell_type": "code",
   "execution_count": null,
   "metadata": {},
   "outputs": [],
   "source": [
    "# Convert target data to 0-360 format first\n",
    "target_wrapped = target_be.wrap_lon(mode='360')\n",
    "\n",
    "# Then do the comparison\n",
    "valid_fdb = res.recons['tas'].compare(\n",
    "    target_wrapped,\n",
    "    stat='corr',\n",
    "    timespan=(1880, 2000),\n",
    ")\n",
    "\n",
    "# Plot with updated settings\n",
    "valid_fdb.plot_kwargs.update({'cbar_orientation': 'horizontal', 'cbar_pad': 0.1})\n",
    "fig, ax = valid_fdb.plot(\n",
    "    title=f'CFR Reproduced corr(recon, obs), mean={valid_fdb.geo_mean().value[0,0]:.2f}',\n",
    "    projection='PlateCarree',\n",
    "    latlon_range=(-90, 90, 0, 360),\n",
    "    plot_cbar=True,\n",
    "    plot_proxydb=False,\n",
    "    cmap='bwr'\n",
    ")\n",
    "\n",
    "cfr.showfig(fig)"
   ]
  },
  {
   "cell_type": "code",
   "execution_count": null,
   "metadata": {},
   "outputs": [],
   "source": [
    "# Then do the comparison\n",
    "valid_fdbx = res.recons['tas'].compare(\n",
    "    target_wrapped,\n",
    "    stat='CE',\n",
    "    timespan=(1880, 2000),\n",
    ")\n",
    "\n",
    "# Plot with updated settings\n",
    "valid_fdbx.plot_kwargs.update({'cbar_orientation': 'horizontal', 'cbar_pad': 0.1})\n",
    "fig, ax = valid_fdbx.plot(\n",
    "    title=f'CFR reproduced CE(recon, obs), mean={valid_fdbx.geo_mean().value[0,0]:.2f}',\n",
    "    projection='PlateCarree',\n",
    "    latlon_range=(-90, 90, 0, 360),\n",
    "    plot_cbar=True,\n",
    "    plot_proxydb=False,\n",
    "    cmap='bwr'\n",
    ")\n",
    "\n",
    "cfr.showfig(fig)"
   ]
  },
  {
   "cell_type": "markdown",
   "metadata": {},
   "source": [
    "## valid with original lmr"
   ]
  },
  {
   "cell_type": "code",
   "execution_count": null,
   "metadata": {},
   "outputs": [],
   "source": [
    "lmr_tas = cfr.ClimateField().load_nc(\n",
    "    path='./recons/air_MCruns_ensemble_mean_LMRv2.1.nc',\n",
    "    vn='air', \n",
    "    time_name='time',  \n",
    "    lat_name='lat', \n",
    "    lon_name='lon'\n",
    ")\n",
    "\n",
    "target_lmr = lmr_tas.get_anom(ref_period=[1951, 1980])\n",
    "filtered_da = target_lmr.da.sel(time=target_lmr.da.time.dt.year != 0)\n",
    "target_lmr = cfr.ClimateField(da=filtered_da)\n",
    "target_lmr = target_lmr.annualize(months=[12, 1, 2])\n",
    "\n",
    "target_lmr_mean = cfr.ClimateField(da=target_lmr.da.mean(dim='MCrun'))\n"
   ]
  },
  {
   "cell_type": "code",
   "execution_count": null,
   "metadata": {},
   "outputs": [],
   "source": [
    "print(target_lmr.da.dims)"
   ]
  },
  {
   "cell_type": "code",
   "execution_count": null,
   "metadata": {},
   "outputs": [],
   "source": [
    "# Then do the comparison\n",
    "valid_fdb = target_lmr_mean.compare(\n",
    "    target_wrapped,\n",
    "    stat='corr',\n",
    "    timespan=(1880, 2000),\n",
    ")\n",
    "\n",
    "# Plot with updated settings\n",
    "valid_fdb.plot_kwargs.update({'cbar_orientation': 'horizontal', 'cbar_pad': 0.1})\n",
    "fig, ax = valid_fdb.plot(\n",
    "    title=f'LMRv2.1 corr(recon, obs), mean={valid_fdb.geo_mean().value[0,0]:.2f}',\n",
    "    projection='PlateCarree',\n",
    "    latlon_range=(-90, 90, 0, 360),\n",
    "    plot_cbar=True,\n",
    "    plot_proxydb=False,\n",
    "    cmap='bwr'\n",
    ")\n",
    "\n",
    "cfr.showfig(fig)"
   ]
  },
  {
   "cell_type": "code",
   "execution_count": null,
   "metadata": {},
   "outputs": [],
   "source": [
    "# Then do the comparison\n",
    "valid_fdbx = target_lmr_mean.compare(\n",
    "    target_wrapped,\n",
    "    stat='CE',\n",
    "    timespan=(1880, 2000),\n",
    ")\n",
    "\n",
    "# Plot with updated settings\n",
    "valid_fdbx.plot_kwargs.update({'cbar_orientation': 'horizontal', 'cbar_pad': 0.1})\n",
    "fig, ax = valid_fdbx.plot(\n",
    "    title=f'LMRv2.1 CE(recon, obs), mean={valid_fdbx.geo_mean().value[0,0]:.2f}',\n",
    "    projection='PlateCarree',\n",
    "    latlon_range=(-90, 90, 0, 360),\n",
    "    plot_cbar=True,\n",
    "    plot_proxydb=False,\n",
    "    cmap='bwr'\n",
    ")\n",
    "\n",
    "cfr.showfig(fig)"
   ]
  },
  {
   "cell_type": "code",
   "execution_count": null,
   "metadata": {},
   "outputs": [],
   "source": []
  }
 ],
 "metadata": {
  "kernelspec": {
   "display_name": "cfr-env",
   "language": "python",
   "name": "python3"
  },
  "language_info": {
   "codemirror_mode": {
    "name": "ipython",
    "version": 3
   },
   "file_extension": ".py",
   "mimetype": "text/x-python",
   "name": "python",
   "nbconvert_exporter": "python",
   "pygments_lexer": "ipython3",
   "version": "3.11.10"
  }
 },
 "nbformat": 4,
 "nbformat_minor": 2
}
